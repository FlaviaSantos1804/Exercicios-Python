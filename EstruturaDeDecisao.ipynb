{
  "nbformat": 4,
  "nbformat_minor": 0,
  "metadata": {
    "colab": {
      "name": "EstruturaDeDecisao.ipynb",
      "provenance": [],
      "authorship_tag": "ABX9TyP/wr5q1JwxIEgSyqGB8274",
      "include_colab_link": true
    },
    "kernelspec": {
      "name": "python3",
      "display_name": "Python 3"
    }
  },
  "cells": [
    {
      "cell_type": "markdown",
      "metadata": {
        "id": "view-in-github",
        "colab_type": "text"
      },
      "source": [
        "<a href=\"https://colab.research.google.com/github/FlaviaSantos1804/Exercicios-Python/blob/main/EstruturaDeDecisao.ipynb\" target=\"_parent\"><img src=\"https://colab.research.google.com/assets/colab-badge.svg\" alt=\"Open In Colab\"/></a>"
      ]
    },
    {
      "cell_type": "markdown",
      "metadata": {
        "id": "xbnBgAH4M0N4"
      },
      "source": [
        "###1\r\n"
      ]
    },
    {
      "cell_type": "code",
      "metadata": {
        "colab": {
          "base_uri": "https://localhost:8080/"
        },
        "id": "6s-WULDeMZQG",
        "outputId": "2e111675-ef09-4996-c24d-87017db0079b"
      },
      "source": [
        "num_1 = input(\"Insira um número: \")\r\n",
        "num_2 = input(\"Insira mais um número: \")\r\n",
        "maior = max(float(num_1),float(num_2))\r\n",
        "print(f\"O maior número é {maior}\")"
      ],
      "execution_count": null,
      "outputs": [
        {
          "output_type": "stream",
          "text": [
            "Insira um número: 4\n",
            "Insira mais um número: 10\n",
            "O maior número é 10.0\n"
          ],
          "name": "stdout"
        }
      ]
    },
    {
      "cell_type": "markdown",
      "metadata": {
        "id": "a0Z0PfVJOuNm"
      },
      "source": [
        "###2\r\n"
      ]
    },
    {
      "cell_type": "code",
      "metadata": {
        "colab": {
          "base_uri": "https://localhost:8080/"
        },
        "id": "6_malaXeNOp_",
        "outputId": "85f0a9f4-148b-4ecc-c4aa-6fe0f9dfbbbe"
      },
      "source": [
        "valor = input(\"Insira um valor: \")\r\n",
        "if (float(valor)>=0):\r\n",
        "  print(\"Valor positivo\")\r\n",
        "else:\r\n",
        "  print(\"Valor negativo\")"
      ],
      "execution_count": null,
      "outputs": [
        {
          "output_type": "stream",
          "text": [
            "Insira um valor: 50\n",
            "Valor positivo\n"
          ],
          "name": "stdout"
        }
      ]
    },
    {
      "cell_type": "markdown",
      "metadata": {
        "id": "_XgWd0ECOw7u"
      },
      "source": [
        "###3\r\n"
      ]
    },
    {
      "cell_type": "code",
      "metadata": {
        "colab": {
          "base_uri": "https://localhost:8080/"
        },
        "id": "3TOy170HOfKN",
        "outputId": "c6d2833c-8d60-4159-8a3f-aa5a4bc9a4a3"
      },
      "source": [
        "sexo = input(\"Insira M ou F: \")\r\n",
        "sexo_upper = sexo.upper()\r\n",
        "if (sexo_upper == \"F\"):\r\n",
        "  print(\"Feminino\")\r\n",
        "elif (sexo_upper == \"M\"):\r\n",
        "  print(\"Masculino\")\r\n",
        "else:\r\n",
        "  print(\"Sexo Inválido\")"
      ],
      "execution_count": null,
      "outputs": [
        {
          "output_type": "stream",
          "text": [
            "Insira M ou F: f\n",
            "Feminino\n"
          ],
          "name": "stdout"
        }
      ]
    },
    {
      "cell_type": "markdown",
      "metadata": {
        "id": "-pCwvFfPPoK_"
      },
      "source": [
        "###4\r\n"
      ]
    },
    {
      "cell_type": "code",
      "metadata": {
        "colab": {
          "base_uri": "https://localhost:8080/"
        },
        "id": "MtThrbn1PbuX",
        "outputId": "257d21ac-0846-4711-f42a-8f15b8c77d3e"
      },
      "source": [
        "vogais = 'aeiou'\r\n",
        "letra = input(\"Digite uma letra: \")\r\n",
        "letra_lower = letra.lower()\r\n",
        "if (letra_lower in vogais):\r\n",
        "  print(\"Vogal\")\r\n",
        "else:\r\n",
        "  print(\"Consoante\")"
      ],
      "execution_count": null,
      "outputs": [
        {
          "output_type": "stream",
          "text": [
            "Digite uma letra: A\n",
            "Vogal\n"
          ],
          "name": "stdout"
        }
      ]
    },
    {
      "cell_type": "markdown",
      "metadata": {
        "id": "BBurLhazQdgu"
      },
      "source": [
        "###5\r\n"
      ]
    },
    {
      "cell_type": "code",
      "metadata": {
        "colab": {
          "base_uri": "https://localhost:8080/"
        },
        "id": "9_eQkxxVQPAx",
        "outputId": "e30bf9e8-95b3-4d8a-d6e1-84024e731c10"
      },
      "source": [
        "nota_1 = input(\"Insira a 1ª nota: \")\r\n",
        "nota_2 = input(\"Insira a 2ª nota: \")\r\n",
        "\r\n",
        "media = (float(nota_1)+float(nota_2))/2\r\n",
        "\r\n",
        "if (media==10):\r\n",
        "  print(\"Aprovado com Distinção\")\r\n",
        "elif (media>=7):\r\n",
        "  print(\"Aprovado\")\r\n",
        "else:\r\n",
        "  print(\"Reprovado\")\r\n",
        "\r\n",
        "print(media)\r\n"
      ],
      "execution_count": null,
      "outputs": [
        {
          "output_type": "stream",
          "text": [
            "Insira a 1ª nota: 9.5\n",
            "Insira a 2ª nota: 9\n",
            "Aprovado\n",
            "9.25\n"
          ],
          "name": "stdout"
        }
      ]
    },
    {
      "cell_type": "markdown",
      "metadata": {
        "id": "86z4Ou6NRtz_"
      },
      "source": [
        "###6\r\n"
      ]
    },
    {
      "cell_type": "code",
      "metadata": {
        "colab": {
          "base_uri": "https://localhost:8080/"
        },
        "id": "qFBCDdO-RM-M",
        "outputId": "bf4ec737-5cb2-4b5c-c6c5-efd6fc8604d6"
      },
      "source": [
        "num_1 = input(\"Insira o 1º número: \")\r\n",
        "num_2 = input(\"Insira o 2º número: \")\r\n",
        "num_3 = input(\"Insira o 3º número: \")\r\n",
        "\r\n",
        "maior = max(float(num_1),float(num_2),float(num_3))\r\n",
        "print(f\"O maior número é {maior}\")"
      ],
      "execution_count": null,
      "outputs": [
        {
          "output_type": "stream",
          "text": [
            "Insira o 1º número: 20.5\n",
            "Insira o 2º número: 15\n",
            "Insira o 3º número: 40.7\n",
            "O maior número é 40.7\n"
          ],
          "name": "stdout"
        }
      ]
    },
    {
      "cell_type": "markdown",
      "metadata": {
        "id": "emSksUjmSEa3"
      },
      "source": [
        "###7\r\n"
      ]
    },
    {
      "cell_type": "code",
      "metadata": {
        "colab": {
          "base_uri": "https://localhost:8080/"
        },
        "id": "u9qTB8BUR7qq",
        "outputId": "b3dbe334-689a-4720-e248-6f805ff080ed"
      },
      "source": [
        "num_1 = input(\"Insira o 1º número: \")\r\n",
        "num_2 = input(\"Insira o 2º número: \")\r\n",
        "num_3 = input(\"Insira o 3º número: \")\r\n",
        "\r\n",
        "maior = max(float(num_1),float(num_2),float(num_3))\r\n",
        "print(f\"O maior número é {maior}\")\r\n",
        "\r\n",
        "menor = min(float(num_1),float(num_2),float(num_3))\r\n",
        "print(f\"O menor número é {menor}\")"
      ],
      "execution_count": null,
      "outputs": [
        {
          "output_type": "stream",
          "text": [
            "Insira o 1º número: 20.5\n",
            "Insira o 2º número: 15\n",
            "Insira o 3º número: 40.7\n",
            "O maior número é 40.7\n",
            "O menor número é 15.0\n"
          ],
          "name": "stdout"
        }
      ]
    },
    {
      "cell_type": "markdown",
      "metadata": {
        "id": "iBlyX0SQSalz"
      },
      "source": [
        "###8\r\n"
      ]
    },
    {
      "cell_type": "code",
      "metadata": {
        "colab": {
          "base_uri": "https://localhost:8080/"
        },
        "id": "1eeNiD1TSSZF",
        "outputId": "d4062a64-55a5-4543-bdd3-00e8a1047124"
      },
      "source": [
        "preco_1 = input(\"Insira o 1º preco: \")\r\n",
        "preco_2 = input(\"Insira o 2º preco: \")\r\n",
        "preco_3 = input(\"Insira o 3º preco: \")\r\n",
        "\r\n",
        "menor_preco = min(float(preco_1),float(preco_2),float(preco_3))\r\n",
        "\r\n",
        "if (menor_preco == float(preco_1)):\r\n",
        "  print(\"Você deverá comprar o 1º produto.\")\r\n",
        "elif (menor_preco == float(preco_2)):\r\n",
        "  print(\"Você deverá comprar o 2º produto.\")\r\n",
        "else:\r\n",
        "  print(\"Você deverá comprar o 3º produto.\")"
      ],
      "execution_count": null,
      "outputs": [
        {
          "output_type": "stream",
          "text": [
            "Insira o 1º preco: 40.5\n",
            "Insira o 2º preco: 50.4\n",
            "Insira o 3º preco: 10\n",
            "Você deverá comprar o 3º produto.\n"
          ],
          "name": "stdout"
        }
      ]
    },
    {
      "cell_type": "markdown",
      "metadata": {
        "id": "4DDX9jhQTiZ3"
      },
      "source": [
        "###9\r\n"
      ]
    },
    {
      "cell_type": "code",
      "metadata": {
        "colab": {
          "base_uri": "https://localhost:8080/"
        },
        "id": "2tvND1XATN-Q",
        "outputId": "091c1593-ec7c-4513-b30d-b5c8880e1f73"
      },
      "source": [
        "num_1 = input(\"Insira o 1º número: \")\r\n",
        "\r\n",
        "num_2 = input(\"Insira o 2º número: \")\r\n",
        "\r\n",
        "num_3 = input(\"Insira o 3º número: \")\r\n",
        "\r\n",
        "lista = [num_1,num_2,num_3]\r\n",
        "print(sorted(lista,key=float,reverse=True))"
      ],
      "execution_count": null,
      "outputs": [
        {
          "output_type": "stream",
          "text": [
            "Insira o 1º número: 49\n",
            "Insira o 2º número: 500\n",
            "Insira o 3º número: 100.5\n",
            "['500', '100.5', '49']\n"
          ],
          "name": "stdout"
        }
      ]
    },
    {
      "cell_type": "markdown",
      "metadata": {
        "id": "ZsReNRP2VCQ-"
      },
      "source": [
        "###10"
      ]
    },
    {
      "cell_type": "code",
      "metadata": {
        "colab": {
          "base_uri": "https://localhost:8080/"
        },
        "id": "4y8TT2JMTvIl",
        "outputId": "ecf6c21c-68ac-4d04-c5d2-0fa4d72e9ffc"
      },
      "source": [
        "turno = input(\"Em que turno você estuda? \")\r\n",
        "\r\n",
        "turno_upper = turno.upper()\r\n",
        "\r\n",
        "if (turno_upper == \"M\"):\r\n",
        "  print(\"Bom Dia!\")\r\n",
        "elif (turno_upper == \"V\"):\r\n",
        "  print(\"Boa Tarde!\")\r\n",
        "elif (turno_upper == \"N\"):\r\n",
        "  print(\"Boa Noite!\")\r\n",
        "else:\r\n",
        "  print(\"Turno inválido, tente novamente!\")"
      ],
      "execution_count": null,
      "outputs": [
        {
          "output_type": "stream",
          "text": [
            "Em que turno você estuda? m\n",
            "Bom Dia!\n"
          ],
          "name": "stdout"
        }
      ]
    },
    {
      "cell_type": "markdown",
      "metadata": {
        "id": "so_dELUQh1iy"
      },
      "source": [
        "###11"
      ]
    },
    {
      "cell_type": "code",
      "metadata": {
        "id": "FScwWFF2V2fH",
        "colab": {
          "base_uri": "https://localhost:8080/"
        },
        "outputId": "7a4e95cf-0990-4934-a6af-3f5c95a7902d"
      },
      "source": [
        "salario = input(\"Insira o salário atual: \")\r\n",
        "\r\n",
        "if (float(salario) <= 280):\r\n",
        "  salario_modificado = float(salario)*1.2\r\n",
        "elif (float(salario) > 280 and float(salario) <= 700):\r\n",
        "  salario_modificado = float(salario)*1.15\r\n",
        "elif (float(salario) > 700 and float(salario) < 1500):\r\n",
        "  salario_modificado = float(salario)*1.10\r\n",
        "else:\r\n",
        "  salario_modificado = float(salario)*1.05\r\n",
        "\r\n",
        "print(\"Salário antes do ajuste: R$ {}\".format(float(salario)))\r\n",
        "print(\"Percentual de aumento aplicado: {}%\".format(round((float(salario_modificado)/float(salario) - 1) * 100),4))\r\n",
        "print(\"Valor do aumento: R$ {}\". format(round(float(salario_modificado) - float(salario),2)))\r\n",
        "print(\"Novo salário: R$ {}\".format(round(float(salario_modificado),2)))"
      ],
      "execution_count": null,
      "outputs": [
        {
          "output_type": "stream",
          "text": [
            "Insira o salário atual: 50.54\n",
            "Salário antes do ajuste: R$ 50.54\n",
            "Percentual de aumento aplicado: 20%\n",
            "Valor do aumento: R$ 10.11\n",
            "Novo salário: R$ 60.65\n"
          ],
          "name": "stdout"
        }
      ]
    },
    {
      "cell_type": "markdown",
      "metadata": {
        "id": "0ifMB3hy42kU"
      },
      "source": [
        "###12"
      ]
    },
    {
      "cell_type": "code",
      "metadata": {
        "colab": {
          "base_uri": "https://localhost:8080/"
        },
        "id": "GSFWlHWn45i7",
        "outputId": "0a62b59c-e08c-47fe-a7b2-d3a9f69f030e"
      },
      "source": [
        "valor_hora = input(\"Insira o valor da hora: R$ \")\r\n",
        "horas_trabalhadas_mes = input(\"Insira a quantidade de horas trabalhadas por mês: \")\r\n",
        "\r\n",
        "salario_bruto = round(float(valor_hora)*float(horas_trabalhadas_mes),2)\r\n",
        "\r\n",
        "if (salario_bruto <= 900):\r\n",
        "  IR = 0\r\n",
        "elif (salario_bruto <= 1500):\r\n",
        "  IR = 0.05\r\n",
        "elif (salario_bruto <= 2500):\r\n",
        "  IR = 0.10 \r\n",
        "else:\r\n",
        "  IR = 0.20\r\n",
        "\r\n",
        "print(f\"Salário Bruto ({valor_hora} * {horas_trabalhadas_mes}) = R$ {salario_bruto}\")\r\n",
        "\r\n",
        "desconto_IR = salario_bruto*IR\r\n",
        "\r\n",
        "print(f\"IR ({IR * 100}%)= R$ {desconto_IR}\")\r\n",
        "\r\n",
        "desconto_INSS = salario_bruto*0.10\r\n",
        "\r\n",
        "print(f\"INSS (10%) = R$ {desconto_INSS}\")\r\n",
        "\r\n",
        "desconto_FGTS = salario_bruto*0.11\r\n",
        "\r\n",
        "print(f\"FGTS (11%) = R$ {desconto_FGTS}\")\r\n",
        "\r\n",
        "total_descontos = desconto_IR + desconto_INSS \r\n",
        "\r\n",
        "print(f\"Total de descontos = R$ {total_descontos}\")\r\n",
        "\r\n",
        "salario_liquido = salario_bruto - total_descontos\r\n",
        "\r\n",
        "print(f\"Salário Liquido = R$ {salario_liquido}\")\r\n"
      ],
      "execution_count": null,
      "outputs": [
        {
          "output_type": "stream",
          "text": [
            "Insira o valor da hora: R$ 4.5\n",
            "Insira a quantidade de horas trabalhadas por mês: 600\n",
            "Salário Bruto (4.5 * 600) = R$ 2700.0\n",
            "IR (20.0%)= R$ 540.0\n",
            "INSS (10%) = R$ 270.0\n",
            "FGTS (11%) = R$ 297.0\n",
            "Total de descontos = R$ 810.0\n",
            "Salário Liquido = R$ 1890.0\n"
          ],
          "name": "stdout"
        }
      ]
    },
    {
      "cell_type": "markdown",
      "metadata": {
        "id": "ntjAoz4_jAay"
      },
      "source": [
        "###13"
      ]
    },
    {
      "cell_type": "code",
      "metadata": {
        "colab": {
          "base_uri": "https://localhost:8080/"
        },
        "id": "O0AzEoTmfzlc",
        "outputId": "cd21a8bd-dc17-4fcf-9948-3a6ad8cf1e03"
      },
      "source": [
        "numero = input(\"Insira um número: \")\r\n",
        "\r\n",
        "if (int(numero)==1):\r\n",
        "  print(\"Domingo\")\r\n",
        "elif (int(numero)==2):\r\n",
        "  print(\"Segunda\")\r\n",
        "elif (int(numero)==3):\r\n",
        "  print(\"Terça\")\r\n",
        "elif (int(numero)==4):\r\n",
        "  print(\"Quarta\")\r\n",
        "elif (int(numero)==5):\r\n",
        "  print(\"Quinta\")\r\n",
        "elif (int(numero)==6):\r\n",
        "  print(\"Sexta\")\r\n",
        "elif (int(numero)==7):\r\n",
        "  print(\"Sábado\")\r\n",
        "else:\r\n",
        "  print(\"Valor inválido!\")"
      ],
      "execution_count": null,
      "outputs": [
        {
          "output_type": "stream",
          "text": [
            "Insira um número: 6\n",
            "Sexta\n"
          ],
          "name": "stdout"
        }
      ]
    },
    {
      "cell_type": "markdown",
      "metadata": {
        "id": "Hp1Dp5EnapdP"
      },
      "source": [
        "###14"
      ]
    },
    {
      "cell_type": "code",
      "metadata": {
        "colab": {
          "base_uri": "https://localhost:8080/"
        },
        "id": "hF8yoygoaqxO",
        "outputId": "8c0186e3-fa9a-4d05-a134-70c098727bf9"
      },
      "source": [
        "nota_1 = input(\"Insira a 1ª nota: \")\r\n",
        "nota_2 = input(\"Insira a 2ª nota: \")\r\n",
        "\r\n",
        "media = (float(nota_1) + float(nota_2))/2\r\n",
        "\r\n",
        "if (media <= 4): \r\n",
        "  conceito = 'E'\r\n",
        "elif (media <= 6):\r\n",
        "  conceito = 'D'\r\n",
        "elif (media <= 7.5):\r\n",
        "  conceito = 'C'\r\n",
        "elif (media <= 9.0):\r\n",
        "  conceito = 'B'\r\n",
        "else:\r\n",
        "  conceito = 'A'\r\n",
        "\r\n",
        "if (conceito in 'ABC'):\r\n",
        "  situacao = 'APROVADO'\r\n",
        "else:\r\n",
        "  situacao = 'REPROVADO'\r\n",
        "\r\n",
        "print(f\"1ª nota: {nota_1}\") \r\n",
        "print(f\"2ª nota: {nota_2}\") \r\n",
        "print(f\"Média: {media}\") \r\n",
        "print(f\"Conceito: {conceito}\")\r\n",
        "print(f\"Situação: {situacao}\") \r\n",
        "\r\n"
      ],
      "execution_count": null,
      "outputs": [
        {
          "output_type": "stream",
          "text": [
            "Insira a 1ª nota: 7.5\n",
            "Insira a 2ª nota: 4.75\n",
            "1ª nota: 7.5\n",
            "2ª nota: 4.75\n",
            "Média: 6.125\n",
            "Conceito: C\n",
            "Situação: APROVADO\n"
          ],
          "name": "stdout"
        }
      ]
    },
    {
      "cell_type": "markdown",
      "metadata": {
        "id": "WFs6vK5PdW3n"
      },
      "source": [
        "###15"
      ]
    },
    {
      "cell_type": "code",
      "metadata": {
        "colab": {
          "base_uri": "https://localhost:8080/"
        },
        "id": "z3EJw7VfdYK2",
        "outputId": "02307228-6a5e-4e9a-f9fe-621b06d3ecb2"
      },
      "source": [
        "lado_1 = input(\"Insira o valor do 1º lado: \")\r\n",
        "lado_2 = input(\"Insira o valor do 2º lado: \")\r\n",
        "lado_3 = input(\"Insira o valor do 3º lado: \")\r\n",
        "\r\n",
        "if (\r\n",
        "    (float(lado_1) + float(lado_2) > float(lado_3)) &\r\n",
        "    (float(lado_1) + float(lado_3) > float(lado_2)) &\r\n",
        "    (float(lado_3) + float(lado_2) > float(lado_1)) \r\n",
        "):\r\n",
        "\r\n",
        "  if (float(lado_1) == float(lado_2) == float(lado_3)):\r\n",
        "    print(\"Triângulo Equilátero\")\r\n",
        "  elif (\r\n",
        "      (float(lado_1) == float(lado_2))|\r\n",
        "      (float(lado_1) == float(lado_3))|\r\n",
        "      (float(lado_2) == float(lado_3))\r\n",
        "  ):\r\n",
        "    print(\"Triângulo Isósceles\")\r\n",
        "  else:\r\n",
        "    print(\"Triângulo Escaleno\")\r\n",
        "\r\n",
        "else:\r\n",
        "  print(\"Não forma um triângulo!\")"
      ],
      "execution_count": null,
      "outputs": [
        {
          "output_type": "stream",
          "text": [
            "Insira o valor do 1º lado: 4\n",
            "Insira o valor do 2º lado: 3\n",
            "Insira o valor do 3º lado: 5\n",
            "Triângulo Escaleno\n"
          ],
          "name": "stdout"
        }
      ]
    },
    {
      "cell_type": "markdown",
      "metadata": {
        "id": "BWia460shAbW"
      },
      "source": [
        "###16\r\n"
      ]
    },
    {
      "cell_type": "code",
      "metadata": {
        "colab": {
          "base_uri": "https://localhost:8080/"
        },
        "id": "0wBRuW3ngjim",
        "outputId": "8043015b-3175-4827-9ecc-238072d06190"
      },
      "source": [
        "import math\r\n",
        "\r\n",
        "\r\n",
        "a = input(\"Insira o valor de a: \")\r\n",
        "\r\n",
        "if (float(a) == 0):\r\n",
        "  print(\"A equação não é do 2º grau\")\r\n",
        "  print(\"Programa encerrado\")\r\n",
        "else:\r\n",
        "  b = input(\"Insira o valor de b: \")\r\n",
        "  c = input(\"Insira o valor de c: \")\r\n",
        "\r\n",
        "  delta = float(b)**2 - 4*float(a)*float(c)\r\n",
        "\r\n",
        "  if (delta < 0):\r\n",
        "    print(\"A equação não possui raízes reais\")\r\n",
        "    print(\"Programa encerrado\")\r\n",
        "  elif (delta == 0):\r\n",
        "    print(\"A equação possui apenas uma raíz real\")\r\n",
        "    raiz = -float(b)/2*float(a)\r\n",
        "    print(f\"{raiz}\")\r\n",
        "  else:\r\n",
        "    print(\"A equação possui duas raízes reais\")\r\n",
        "    raiz_1 = (- float(b) + math.sqrt(float(delta))) / (2*float(a))\r\n",
        "    raiz_2 = (- float(b) - math.sqrt(float(delta))) / (2*float(a))\r\n",
        "    print(f\"{round(raiz_1,2)} e {round(raiz_2,2)}\")\r\n",
        " "
      ],
      "execution_count": null,
      "outputs": [
        {
          "output_type": "stream",
          "text": [
            "Insira o valor de a: 3\n",
            "Insira o valor de b: -2\n",
            "Insira o valor de c: -8\n",
            "A equação possui duas raízes reais\n",
            "2.0 e -1.33\n"
          ],
          "name": "stdout"
        }
      ]
    },
    {
      "cell_type": "markdown",
      "metadata": {
        "id": "epQlN_fEoi9C"
      },
      "source": [
        "###17"
      ]
    },
    {
      "cell_type": "code",
      "metadata": {
        "colab": {
          "base_uri": "https://localhost:8080/"
        },
        "id": "3C50k3qCokoB",
        "outputId": "859166fe-5bf8-4060-943c-cd5997852512"
      },
      "source": [
        "ano = input(\"Insira um ano: \")\r\n",
        "if (str(int(ano)/4)[-1] == '0'):\r\n",
        "  print(\"Ano bissexto\")\r\n",
        "else:\r\n",
        "  print(\"Não é ano bissexto\")"
      ],
      "execution_count": null,
      "outputs": [
        {
          "output_type": "stream",
          "text": [
            "Insira um ano: 2020\n",
            "Ano bissexto\n"
          ],
          "name": "stdout"
        }
      ]
    },
    {
      "cell_type": "markdown",
      "metadata": {
        "id": "eLW3Yz07wPBQ"
      },
      "source": [
        "###18"
      ]
    },
    {
      "cell_type": "code",
      "metadata": {
        "colab": {
          "base_uri": "https://localhost:8080/"
        },
        "id": "diefqM2zwQYX",
        "outputId": "9a1cd0a8-45aa-4f36-dcd7-5bda8f61c9c0"
      },
      "source": [
        "from datetime import datetime\r\n",
        "\r\n",
        "data = input(\"Insira uma data: \")\r\n",
        "format = \"%d/%m/%Y\"\r\n",
        "\r\n",
        "try:\r\n",
        "  datetime.strptime(data, format)\r\n",
        "  print(\"Data válida!\")\r\n",
        "except ValueError:\r\n",
        "  print(\"Data inválida! Tente no formato dd/mm/aaaa\")"
      ],
      "execution_count": null,
      "outputs": [
        {
          "output_type": "stream",
          "text": [
            "Insira uma data: 04/18/2000\n",
            "Data inválida! Tente no formato dd/mm/aaaa\n"
          ],
          "name": "stdout"
        }
      ]
    },
    {
      "cell_type": "markdown",
      "metadata": {
        "id": "aCwjXyJg4Dje"
      },
      "source": [
        "###19"
      ]
    },
    {
      "cell_type": "code",
      "metadata": {
        "colab": {
          "base_uri": "https://localhost:8080/"
        },
        "id": "Zgz2S19e4E8e",
        "outputId": "ef75c203-981c-45d3-fcad-6c8f6225a986"
      },
      "source": [
        "numero = input(\"Insira um número: \")\r\n",
        "\r\n",
        "\r\n",
        "if (len(numero) == 3):\r\n",
        "  \r\n",
        "  if (str(numero)[0] > '1'):\r\n",
        "    c = (f\"{str(numero)[0]} centenas\")\r\n",
        "  else:\r\n",
        "    c = (f\"{str(numero)[0]} centena\")\r\n",
        "  if (str(numero)[1] > '1'):\r\n",
        "    d = (f\"{str(numero)[1]} dezenas\")\r\n",
        "  else:\r\n",
        "    d = (f\"{str(numero)[1]} dezena\")\r\n",
        "  if (str(numero)[2] > '1'):\r\n",
        "    u = (f\"{str(numero)[2]} unidades\")\r\n",
        "  else:\r\n",
        "    u = (f\"{str(numero)[2]} unidade\")\r\n",
        "\r\n",
        "  print(f\"{c}, {d} e {u}\")\r\n",
        "\r\n",
        "\r\n",
        "elif (len(numero) == 2):\r\n",
        "  \r\n",
        "  if (str(numero)[0] > '1'):   \r\n",
        "    d = (f\"{str(numero)[0]} dezenas\")\r\n",
        "  else:\r\n",
        "    d = (f\"{str(numero)[0]} dezena\")\r\n",
        "  if (str(numero)[1] > '1'):\r\n",
        "    u = (f\"{str(numero)[1]} unidades\")\r\n",
        "  else:\r\n",
        "    u = (f\"{str(numero)[1]} unidade\")\r\n",
        "\r\n",
        "  print(f\"{d} e {u}\")\r\n",
        "\r\n",
        "\r\n",
        "elif (len(numero) == 1):\r\n",
        " \r\n",
        "  if (str(numero)[0] > '1'):   \r\n",
        "    u = (f\"{str(numero)[0]} unidades\")\r\n",
        "  else:\r\n",
        "    u = (f\"{str(numero)[0]} unidade\")\r\n",
        " \r\n",
        "  print(f\"{u}\")\r\n",
        "\r\n",
        "\r\n",
        "else: \r\n",
        "  \r\n",
        "  print(\"Insira um número menor que 1000\")\r\n"
      ],
      "execution_count": null,
      "outputs": [
        {
          "output_type": "stream",
          "text": [
            "Insira um número: 159\n",
            "1 centena, 5 dezenas e 9 unidades\n"
          ],
          "name": "stdout"
        }
      ]
    },
    {
      "cell_type": "markdown",
      "metadata": {
        "id": "k54goqu5QJuN"
      },
      "source": [
        "###20"
      ]
    },
    {
      "cell_type": "code",
      "metadata": {
        "id": "JIHCniL67TGb",
        "colab": {
          "base_uri": "https://localhost:8080/"
        },
        "outputId": "f441b846-0311-483a-c8be-83cf14bed188"
      },
      "source": [
        "nota_1 = input(\"Insira a 1ª nota: \")\r\n",
        "nota_2 = input(\"Insira a 2ª nota: \")\r\n",
        "nota_3 = input(\"Insira a 3ª nota: \")\r\n",
        "\r\n",
        "\r\n",
        "media = (float(nota_1)+float(nota_2)+float(nota_3))/3\r\n",
        "\r\n",
        "if (media==10):\r\n",
        "  print(\"Aprovado com Distinção\")\r\n",
        "elif (media < 7):\r\n",
        "  print(\"Reprovado\")\r\n",
        "  print(round(media,2))\r\n",
        "else:\r\n",
        "  print(\"Aprovado\")\r\n",
        "  print(round(media,2))\r\n"
      ],
      "execution_count": null,
      "outputs": [
        {
          "output_type": "stream",
          "text": [
            "Insira a 1ª nota: 9\n",
            "Insira a 2ª nota: 7.5\n",
            "Insira a 3ª nota: 6.5\n",
            "Aprovado\n",
            "7.67\n"
          ],
          "name": "stdout"
        }
      ]
    },
    {
      "cell_type": "markdown",
      "metadata": {
        "id": "5zUnc9_ASZ3b"
      },
      "source": [
        "###21"
      ]
    },
    {
      "cell_type": "code",
      "metadata": {
        "colab": {
          "base_uri": "https://localhost:8080/"
        },
        "id": "-Dh8iXbaRe5V",
        "outputId": "5dfc1482-45b4-48b8-fe1a-a4059d8aeb86"
      },
      "source": [
        "valor_sacar = input(\"Insira o valor do saque: R$ \")\r\n",
        "\r\n",
        "\r\n",
        "if ((float (valor_sacar) >= 10) & (float (valor_sacar) <= 600)):\r\n",
        "  \r\n",
        "\r\n",
        "\r\n",
        "  if (float (valor_sacar) >= 100):\r\n",
        "    \r\n",
        "    prim_divisao = str (float (valor_sacar)/100)\r\n",
        "    \r\n",
        "    if (prim_divisao[-1] == '0'):\r\n",
        "      \r\n",
        "      print(\"Notas de 100 reais: {}\".format(prim_divisao[0]))\r\n",
        "    \r\n",
        "    else:\r\n",
        "      \r\n",
        "      print(\"Notas de 100 reais: {}\".format(prim_divisao[0]))\r\n",
        "\r\n",
        "      prim_sub = float (valor_sacar) - int (prim_divisao[0])*100\r\n",
        "\r\n",
        "      if (float (prim_sub) >= 50):\r\n",
        "\r\n",
        "        seg_divisao = str (float (prim_sub)/50)\r\n",
        "\r\n",
        "        print(\"Notas de 50 reais: {}\".format(seg_divisao[0]))\r\n",
        "\r\n",
        "        seg_sub = float (prim_sub) - int (seg_divisao[0])*50\r\n",
        "\r\n",
        "        if (float (seg_sub) >= 10):\r\n",
        "\r\n",
        "          ter_divisao = str (float (seg_sub)/10)\r\n",
        "  \r\n",
        "          print(\"Notas de 10 reais: {}\".format(ter_divisao[0]))\r\n",
        "\r\n",
        "          ter_sub = float (seg_sub) - int (ter_divisao[0])*10\r\n",
        "\r\n",
        "          if (float (ter_sub) != 0):\r\n",
        "          \r\n",
        "            if (float (ter_sub) >= 5):\r\n",
        "\r\n",
        "              quar_divisao = str (float (ter_sub)/5)\r\n",
        "\r\n",
        "              print(\"Notas de 5 reais: {}\".format(quar_divisao[0]))\r\n",
        "                \r\n",
        "              quar_sub = float (ter_sub) - int (quar_divisao[0])*5\r\n",
        "\r\n",
        "              if (float (quar_sub) >= 1):\r\n",
        "\r\n",
        "                print(\"Notas de 1 real: {}\".format(int (quar_sub/1)))\r\n",
        "\r\n",
        "            elif (float (ter_sub) != 0):\r\n",
        "\r\n",
        "              print(\"Notas de 1 real: {}\".format( int (ter_sub/1)))\r\n",
        "\r\n",
        "          else:\r\n",
        "            \r\n",
        "            print(\"\")\r\n",
        "\r\n",
        "        elif (float (seg_sub) != 0):\r\n",
        "\r\n",
        "          if (float (seg_sub) >= 5):\r\n",
        "\r\n",
        "            ter_divisao = str (float (seg_sub)/5)\r\n",
        "\r\n",
        "            print(\"Notas de 5 reais: {}\".format(ter_divisao[0]))\r\n",
        "\r\n",
        "            ter_sub = float (seg_sub) - int (ter_divisao[0])*5\r\n",
        "\r\n",
        "            print(\"Notas de 1 real: {}\".format(int (ter_sub/1)))\r\n",
        "\r\n",
        "          else:\r\n",
        "\r\n",
        "            print(\"Notas de 1 real: {}\".format(int (seg_sub/1)))\r\n",
        "\r\n",
        "      else:\r\n",
        "\r\n",
        "        print(\"\")\r\n",
        "\r\n",
        "      if (float (prim_sub) < 50):\r\n",
        "\r\n",
        "        if (float (prim_sub) >= 10):\r\n",
        "\r\n",
        "            seg_divisao = str (float (prim_sub)/10)\r\n",
        "\r\n",
        "            print(\"Notas de 10 reais: {}\".format(seg_divisao[0]))\r\n",
        "\r\n",
        "            seg_sub = float (prim_sub) - int (seg_divisao[0])*10\r\n",
        "\r\n",
        "            if (float (seg_sub) >= 5):\r\n",
        "\r\n",
        "              ter_divisao = str (float (seg_sub)/5)\r\n",
        "\r\n",
        "              print(\"Notas de 5 reais: {}\".format(ter_divisao[0]))\r\n",
        "                \r\n",
        "              ter_sub = float (seg_sub) - int (ter_divisao[0])*5\r\n",
        "\r\n",
        "              if (float (ter_sub) >= 1):\r\n",
        "\r\n",
        "                print(\"Notas de 1 real: {}\".format(int (ter_sub/1)))\r\n",
        "\r\n",
        "            else:\r\n",
        "\r\n",
        "              print(\"Notas de 1 real: {}\".format(int (seg_sub/1)))\r\n",
        "\r\n",
        "          \r\n",
        "\r\n",
        "  elif (float (valor_sacar) >= 50):\r\n",
        "\r\n",
        "    prim_divisao = str (float (valor_sacar)/50)\r\n",
        "    \r\n",
        "    if (prim_divisao[-1] == '0'):\r\n",
        "      \r\n",
        "      print(\"Notas de 50 reais: {}\".format(prim_divisao[0]))\r\n",
        "    \r\n",
        "    else:\r\n",
        "      \r\n",
        "      print(\"Notas de 50 reais: {}\".format(prim_divisao[0]))\r\n",
        "\r\n",
        "      prim_sub = float (valor_sacar) - int (prim_divisao[0])*50\r\n",
        "\r\n",
        "      if (float (prim_sub) >= 10):\r\n",
        "\r\n",
        "        seg_divisao = str (float (prim_sub)/10)\r\n",
        "\r\n",
        "        print(\"Notas de 10 reais: {}\".format(seg_divisao[0]))\r\n",
        "\r\n",
        "        seg_sub = float (prim_sub) - int (seg_divisao[0])*10\r\n",
        "\r\n",
        "        if (float (seg_sub) >= 5):\r\n",
        "\r\n",
        "          ter_divisao = str (float (seg_sub)/5)\r\n",
        "  \r\n",
        "          print(\"Notas de 5 reais: {}\".format(ter_divisao[0]))\r\n",
        "\r\n",
        "          ter_sub = float (seg_sub) - int (ter_divisao[0])*5\r\n",
        "\r\n",
        "          if (float (ter_sub) >= 1):\r\n",
        "\r\n",
        "            print(\"Notas de 1 real: {}\".format(int (ter_sub/1)))\r\n",
        "\r\n",
        "        elif (float (seg_sub) != 0):\r\n",
        "\r\n",
        "          print(\"Notas de 1 real: {}\".format(int (seg_sub/1)))\r\n",
        "\r\n",
        "        else:\r\n",
        "\r\n",
        "          print(\"\")\r\n",
        "\r\n",
        "      elif (float (prim_sub) != 0):\r\n",
        "\r\n",
        "        if (float (prim_sub) >= 5):\r\n",
        "\r\n",
        "            ter_divisao = str (float (prim_sub)/5)\r\n",
        "\r\n",
        "            print(\"Notas de 5 reais: {}\".format(ter_divisao[0]))\r\n",
        "\r\n",
        "            seg_sub = float (prim_sub) - int (ter_divisao[0])*5\r\n",
        "\r\n",
        "            print(\"Notas de 1 real: {}\".format(int (seg_sub/1)))\r\n",
        "\r\n",
        "        else:\r\n",
        "\r\n",
        "          print(\"Notas de 1 real: {}\".format(int (seg_sub/1)))\r\n",
        "\r\n",
        "\r\n",
        "\r\n",
        "  else:\r\n",
        "\r\n",
        "    prim_divisao = str (float (valor_sacar)/10)\r\n",
        "    \r\n",
        "    if (prim_divisao[-1] == '0'):\r\n",
        "      \r\n",
        "      print(\"Notas de 10 reais: {}\".format(prim_divisao[0]))\r\n",
        "    \r\n",
        "    else:\r\n",
        "      \r\n",
        "      print(\"Notas de 10 reais: {}\".format(prim_divisao[0]))\r\n",
        "\r\n",
        "      prim_sub = float (valor_sacar) - int (prim_divisao[0])*10\r\n",
        "\r\n",
        "      if (float (prim_sub) >= 5):\r\n",
        "\r\n",
        "        seg_divisao = str (float (prim_sub)/5)\r\n",
        "\r\n",
        "        print(\"Notas de 5 reais: {}\".format(seg_divisao[0]))\r\n",
        "\r\n",
        "        seg_sub = float (prim_sub) - int (seg_divisao[0])*5\r\n",
        "\r\n",
        "        if (float (seg_sub) >= 1):\r\n",
        "\r\n",
        "            print(\"Notas de 1 real: {}\".format(int (seg_sub/1)))\r\n",
        "\r\n",
        "      else:\r\n",
        "\r\n",
        "        print(\"Notas de 1 real: {}\".format(int (prim_sub/1)))\r\n"
      ],
      "execution_count": null,
      "outputs": [
        {
          "output_type": "stream",
          "text": [
            "Insira o valor do saque: R$ 43\n",
            "Notas de 10 reais: 4\n",
            "Notas de 1 real: 3\n"
          ],
          "name": "stdout"
        }
      ]
    },
    {
      "cell_type": "markdown",
      "metadata": {
        "id": "3HUDjmtz0vl1"
      },
      "source": [
        "###22"
      ]
    },
    {
      "cell_type": "code",
      "metadata": {
        "id": "jAtqO-zcl3SZ",
        "colab": {
          "base_uri": "https://localhost:8080/"
        },
        "outputId": "94319e8e-4b70-4b49-9990-d4a218ea22d0"
      },
      "source": [
        "num = input(\"Insira um número: \")\r\n",
        "\r\n",
        "if (round(float (num)) != float (num)):\r\n",
        "  print(\"Insira um número inteiro!\")\r\n",
        "else:\r\n",
        "  if (str (float (num)/2)[-1] != '0'):\r\n",
        "    print(\"Número ímpar!\")\r\n",
        "  else:\r\n",
        "    print(\"Número par!\")"
      ],
      "execution_count": null,
      "outputs": [
        {
          "output_type": "stream",
          "text": [
            "Insira um número: 10\n",
            "Número par!\n"
          ],
          "name": "stdout"
        }
      ]
    },
    {
      "cell_type": "markdown",
      "metadata": {
        "id": "0Z8R6Pki3zuL"
      },
      "source": [
        "### 23"
      ]
    },
    {
      "cell_type": "code",
      "metadata": {
        "colab": {
          "base_uri": "https://localhost:8080/"
        },
        "id": "sR7ccyXp07VT",
        "outputId": "0ef9ee95-caef-4565-c4a4-942703e90173"
      },
      "source": [
        "num = input(\"Insira um número: \")\r\n",
        "\r\n",
        "if (round(float (num)) != float (num)):\r\n",
        "  print(\"Número decimal!\")\r\n",
        "else:\r\n",
        "  print(\"Número inteiro!\")"
      ],
      "execution_count": null,
      "outputs": [
        {
          "output_type": "stream",
          "text": [
            "Insira um número: -10\n",
            "Número inteiro!\n"
          ],
          "name": "stdout"
        }
      ]
    },
    {
      "cell_type": "markdown",
      "metadata": {
        "id": "qiMiWFhP56mj"
      },
      "source": [
        "### 24"
      ]
    },
    {
      "cell_type": "code",
      "metadata": {
        "colab": {
          "base_uri": "https://localhost:8080/"
        },
        "id": "j8H5W-kZ26QI",
        "outputId": "454fd47c-1f3a-444d-ac94-96d4bab1b97d"
      },
      "source": [
        "import sys\r\n",
        "\r\n",
        "num_1 = input(\"Insira o 1º número: \")\r\n",
        "num_2 = input(\"Insira o 2º número: \")\r\n",
        "operacao = input(\"Qual operação você deseja realizar? \")\r\n",
        "\r\n",
        "if (operacao.lower() == 'soma'):\r\n",
        "  resultado = float (num_1) + float (num_2)\r\n",
        "  print(f\"Resultado: {round(resultado,2)}\")\r\n",
        "\r\n",
        "elif (operacao.lower() == 'subtração'):\r\n",
        "  resultado = float (num_1) - float (num_2)\r\n",
        "  print(f\"Resultado: {round(resultado,2)}\")\r\n",
        "\r\n",
        "elif (operacao.lower() == 'multiplicação'):\r\n",
        "  resultado = float (num_1) * float (num_2)\r\n",
        "  print(f\"Resultado: {round(resultado,2)}\")\r\n",
        "\r\n",
        "elif (operacao.lower() == 'divisão'):\r\n",
        "  resultado = float (num_1) / float (num_2)\r\n",
        "  print(f\"Resultado: {round(resultado,2)}\")\r\n",
        "\r\n",
        "else:\r\n",
        "  sys.exit(\"Insira uma das operações matemáticas\")\r\n",
        "\r\n",
        "\r\n",
        "if (str (resultado/2)[-1] != '0'):\r\n",
        "  print(\"Número ímpar\")\r\n",
        "else:\r\n",
        "  print(\"Número par\")\r\n",
        "\r\n",
        "if (resultado < 0):\r\n",
        "  print(\"Número negativo\")\r\n",
        "else:\r\n",
        "  print(\"Número positivo\")\r\n",
        "\r\n",
        "if (round(resultado) != resultado):\r\n",
        "  print(\"Número decimal\")\r\n",
        "else:\r\n",
        "  print(\"Número inteiro\")\r\n"
      ],
      "execution_count": null,
      "outputs": [
        {
          "output_type": "stream",
          "text": [
            "Insira o 1º número: -1\n",
            "Insira o 2º número: 9.8\n",
            "Qual operação você deseja realizar? MULTIPLICAÇÃO\n",
            "Resultado: -9.8\n",
            "Número ímpar\n",
            "Número negativo\n",
            "Número decimal\n"
          ],
          "name": "stdout"
        }
      ]
    },
    {
      "cell_type": "markdown",
      "metadata": {
        "id": "KcyL-3-uC1kJ"
      },
      "source": [
        "### 25"
      ]
    },
    {
      "cell_type": "code",
      "metadata": {
        "colab": {
          "base_uri": "https://localhost:8080/"
        },
        "id": "T9_Kwp3o_0j5",
        "outputId": "84de0801-098e-4295-97c5-258ee851979b"
      },
      "source": [
        "perg_1 = input(\"Telefonou para a vítima? \")\r\n",
        "perg_2 = input(\"Esteve no local do crime? \")\r\n",
        "perg_3 = input(\"Mora perto da vítima? \")\r\n",
        "perg_4 = input(\"Devia para a vítima? \")\r\n",
        "perg_5 = input(\"Já trabalhou com a vítima? \")\r\n",
        "\r\n",
        "respostas = [perg_1.lower(),perg_2.lower(),perg_3.lower(),perg_4.lower(),perg_5.lower()]\r\n",
        "\r\n",
        "if (respostas.count(\"sim\") == 2):\r\n",
        "  print(\"Classificação: Suspeita\")\r\n",
        "\r\n",
        "elif (3 <=  respostas.count(\"sim\") <= 4):\r\n",
        "  print(\"Classificação: Cúmplice\")\r\n",
        "\r\n",
        "elif (respostas.count(\"sim\") == 5):\r\n",
        "  print(\"Classificação: Assassino\")\r\n",
        "\r\n",
        "else:\r\n",
        "  print(\"Inocentes\")"
      ],
      "execution_count": null,
      "outputs": [
        {
          "output_type": "stream",
          "text": [
            "Telefonou para a vítima? SIM\n",
            "Esteve no local do crime? sim\n",
            "Mora perto da vítima? nao\n",
            "Devia para a vítima? NÃO\n",
            "Já trabalhou com a vítima? SIM\n",
            "Classificação: Cúmplice\n"
          ],
          "name": "stdout"
        }
      ]
    },
    {
      "cell_type": "markdown",
      "metadata": {
        "id": "sB_MQ8-OFIUv"
      },
      "source": [
        "### 26"
      ]
    },
    {
      "cell_type": "code",
      "metadata": {
        "colab": {
          "base_uri": "https://localhost:8080/"
        },
        "id": "1ZYg32D5Eiu7",
        "outputId": "41ee61a3-9862-4435-8045-afb3f5559e75"
      },
      "source": [
        "alcool = input(\"Quantos litros de Álcool? \")\r\n",
        "gasolina = input(\"Quantos litros de Gasolina? \")\r\n",
        "\r\n",
        "if (float (alcool) <= 20):\r\n",
        "  \r\n",
        "  desconto_alcool = 0.03*1.9\r\n",
        "\r\n",
        "  preco_alcool = 1.9*float (alcool) - desconto_alcool*float (alcool)\r\n",
        "\r\n",
        "\r\n",
        "else:\r\n",
        "  \r\n",
        "  desconto_alcool = 0.05*1.9\r\n",
        "\r\n",
        "  preco_alcool = 1.9*float (alcool) - desconto_alcool*float (alcool)\r\n",
        "\r\n",
        "\r\n",
        "if (float (gasolina) <= 20):\r\n",
        "\r\n",
        "  desconto_gasolina = 0.04*2.5\r\n",
        "\r\n",
        "  preco_gasolina = 2.5*float (gasolina) - desconto_gasolina*float (gasolina)\r\n",
        "\r\n",
        "\r\n",
        "else:\r\n",
        "\r\n",
        "  desconto_gasolina = 0.06*2.5\r\n",
        "\r\n",
        "  preco_gasolina = 2.5*float (gasolina) - desconto_gasolina*float (gasolina)\r\n",
        "\r\n",
        "\r\n",
        "valor_a_ser_pago = preco_alcool + preco_gasolina\r\n",
        "\r\n",
        "print(f\"O valor a ser pago é: R$ {round(valor_a_ser_pago,2)}\")\r\n",
        "\r\n",
        "\r\n",
        "\r\n",
        "\r\n",
        "\r\n"
      ],
      "execution_count": null,
      "outputs": [
        {
          "output_type": "stream",
          "text": [
            "Quantos litros de Álcool? 21\n",
            "Quantos litros de Gasolina? 4\n",
            "O valor a ser pago é: R$ 47.51\n"
          ],
          "name": "stdout"
        }
      ]
    },
    {
      "cell_type": "markdown",
      "metadata": {
        "id": "xixh-WZ-fdwT"
      },
      "source": [
        "### 27"
      ]
    },
    {
      "cell_type": "code",
      "metadata": {
        "colab": {
          "base_uri": "https://localhost:8080/"
        },
        "id": "QvXGfi-JWozV",
        "outputId": "eb15d975-f726-4d13-86eb-671866f14cf8"
      },
      "source": [
        "morango = input(\"Insira o quilo de morangos: \")\r\n",
        "maca = input(\"Insira o quilo de maçãs: \")\r\n",
        "\r\n",
        "if (float (morango) <= 5):\r\n",
        "  preco_morango = float (morango)*2.50\r\n",
        "\r\n",
        "else:\r\n",
        "  preco_morango = float (morango)*2.20\r\n",
        "\r\n",
        "if (float (maca) <= 5):\r\n",
        "  preco_maca = float (maca)*1.80\r\n",
        "\r\n",
        "else:\r\n",
        "  preco_maca = float (maca)*1.50\r\n",
        "\r\n",
        "\r\n",
        "if (((float (morango) + float (maca)) > 8) | ((float (preco_morango) + float (preco_maca)) > 25)):\r\n",
        "  valor_a_pagar = (float (preco_morango) + float (preco_maca))*0.9\r\n",
        "\r\n",
        "else:\r\n",
        "  valor_a_pagar = float (preco_morango) + float (preco_maca)\r\n",
        "\r\n",
        "\r\n",
        "print(f\"Valor a pagar: R$ {round(valor_a_pagar,2)}\")\r\n",
        "\r\n",
        "\r\n"
      ],
      "execution_count": null,
      "outputs": [
        {
          "output_type": "stream",
          "text": [
            "Insira o quilo de morangos: 10.5\n",
            "Insira o quilo de maçãs: 2.3\n",
            "Valor a pagar: R$ 24.52\n"
          ],
          "name": "stdout"
        }
      ]
    },
    {
      "cell_type": "markdown",
      "metadata": {
        "id": "p7t1jkc1j2nl"
      },
      "source": [
        "### 28"
      ]
    },
    {
      "cell_type": "code",
      "metadata": {
        "colab": {
          "base_uri": "https://localhost:8080/"
        },
        "id": "G0RxNMtwjAwG",
        "outputId": "973dd6ea-6c19-40e9-d2e5-63d1762e2bfc"
      },
      "source": [
        "import sys\r\n",
        "\r\n",
        "tipo_carne = input(\"Insira o tipo de carne para comprar: \")\r\n",
        "\r\n",
        "if ((tipo_carne.lower() == 'file duplo') | (tipo_carne.lower() == 'alcatra') | (tipo_carne.lower() == 'picanha')):\r\n",
        "\r\n",
        "\r\n",
        "  quantidade_carne = input(\"Insira o quilo de carne desejado: \")\r\n",
        "  tipo_pagamento = input(\"Insira a forma de pagamento: \")\r\n",
        "\r\n",
        "else:\r\n",
        "\r\n",
        "  sys.exit(\"Tipo de carne inexistente!\")\r\n",
        "\r\n",
        "\r\n",
        "if (tipo_carne.lower() == 'file duplo'):\r\n",
        "  \r\n",
        "  \r\n",
        "  if (float (quantidade_carne) <= 5):\r\n",
        "\r\n",
        "    if ((tipo_pagamento.lower() == 'cartão tabajara') | (tipo_pagamento.lower() == 'cartao tabajara')):\r\n",
        "\r\n",
        "      preco_total = 4.9*float (quantidade_carne)\r\n",
        "      desconto = 4.9*float (quantidade_carne)*0.05\r\n",
        "      valor_pagar = preco_total - desconto\r\n",
        "\r\n",
        "    else:\r\n",
        "      \r\n",
        "      preco_total = 4.9*float (quantidade_carne)\r\n",
        "      desconto = 0\r\n",
        "      valor_pagar = preco_total - desconto\r\n",
        "  \r\n",
        "  else:\r\n",
        "\r\n",
        "    if ((tipo_pagamento.lower() == 'cartão tabajara') | (tipo_pagamento.lower() == 'cartao tabajara')):\r\n",
        "\r\n",
        "      preco_total = 5.8*float (quantidade_carne)\r\n",
        "      desconto = 5.8*float (quantidade_carne)*0.05\r\n",
        "      valor_pagar = preco_total - desconto\r\n",
        "    \r\n",
        "    else:\r\n",
        "\r\n",
        "      preco_total = 5.8*float (quantidade_carne)\r\n",
        "      desconto = 0\r\n",
        "      valor_pagar = preco_total - desconto\r\n",
        "\r\n",
        "\r\n",
        "elif (tipo_carne.lower() == 'alcatra'):\r\n",
        "\r\n",
        "\r\n",
        "  if (float (quantidade_carne) <= 5):\r\n",
        "\r\n",
        "    if ((tipo_pagamento.lower() == 'cartão tabajara') | (tipo_pagamento.lower() == 'cartao tabajara')):\r\n",
        "\r\n",
        "      preco_total = 5.9*float (quantidade_carne)\r\n",
        "      desconto = 5.9*float (quantidade_carne)*0.05\r\n",
        "      valor_pagar = preco_total - desconto\r\n",
        "    \r\n",
        "    else:\r\n",
        "\r\n",
        "      preco_total = 5.9*float (quantidade_carne)\r\n",
        "      desconto = 0\r\n",
        "      valor_pagar = preco_total - desconto\r\n",
        "  \r\n",
        "  else:\r\n",
        "\r\n",
        "    if ((tipo_pagamento.lower() == 'cartão tabajara') | (tipo_pagamento.lower() == 'cartao tabajara')):\r\n",
        "\r\n",
        "      preco_total = 6.8*float (quantidade_carne)\r\n",
        "      desconto = 6.8*float (quantidade_carne)*0.05\r\n",
        "      valor_pagar = preco_total - desconto    \r\n",
        "    \r\n",
        "    else:\r\n",
        "\r\n",
        "      preco_total = 6.8*float (quantidade_carne)\r\n",
        "      desconto = 0\r\n",
        "      valor_pagar = preco_total - desconto\r\n",
        "\r\n",
        "\r\n",
        "elif (tipo_carne.lower() == 'picanha'):\r\n",
        "\r\n",
        "  if (float (quantidade_carne) <= 5):\r\n",
        "\r\n",
        "    if ((tipo_pagamento.lower() == 'cartão tabajara') | (tipo_pagamento.lower() == 'cartao tabajara')):\r\n",
        "\r\n",
        "      preco_total = 6.9*float (quantidade_carne)\r\n",
        "      desconto = 6.9*float (quantidade_carne)*0.05\r\n",
        "      valor_pagar = preco_total - desconto\r\n",
        "    \r\n",
        "    else:\r\n",
        "\r\n",
        "      preco_total = 6.9*float (quantidade_carne)\r\n",
        "      desconto = 0\r\n",
        "      valor_pagar = preco_total - desconto\r\n",
        "  \r\n",
        "  else:\r\n",
        "\r\n",
        "    if ((tipo_pagamento.lower() == 'cartão tabajara') | (tipo_pagamento.lower() == 'cartao tabajara')):\r\n",
        "\r\n",
        "      preco_total = 7.8*float (quantidade_carne)\r\n",
        "      desconto = 7.8*float (quantidade_carne)*0.05\r\n",
        "      valor_pagar = preco_total - desconto\r\n",
        "    \r\n",
        "    else:\r\n",
        "\r\n",
        "      preco_total = 7.8*float (quantidade_carne)\r\n",
        "      desconto = 0\r\n",
        "      valor_pagar = preco_total - desconto\r\n",
        "  \r\n",
        "\r\n",
        "\r\n",
        "print(\"Tipo de carne: {}\".format(tipo_carne.lower()))\r\n",
        "print(\"Quantidade de carne: {} Kg\".format(quantidade_carne))\r\n",
        "print(\"Preço total: R$ {}\".format(round(preco_total,2)))\r\n",
        "print(\"Tipo de pagamento: {}\".format(tipo_pagamento.lower()))\r\n",
        "print(\"Valor do desconto: R$ {}\".format(round(desconto,2)))   \r\n",
        "print(\"Valor a pagar: R$ {}\".format(round(valor_pagar,2)))\r\n"
      ],
      "execution_count": null,
      "outputs": [
        {
          "output_type": "stream",
          "text": [
            "Insira o tipo de carne para comprar: ALCATRA\n",
            "Insira o quilo de carne desejado: 4.5\n",
            "Insira a forma de pagamento: CARTÃO TABAJARA\n",
            "Tipo de carne: alcatra\n",
            "Quantidade de carne: 4.5 Kg\n",
            "Preço total: R$ 26.55\n",
            "Tipo de pagamento: cartão tabajara\n",
            "Valor do desconto: R$ 1.33\n",
            "Valor a pagar: R$ 25.22\n"
          ],
          "name": "stdout"
        }
      ]
    },
    {
      "cell_type": "code",
      "metadata": {
        "id": "pwAQZJ_nxFk7"
      },
      "source": [
        ""
      ],
      "execution_count": null,
      "outputs": []
    }
  ]
}