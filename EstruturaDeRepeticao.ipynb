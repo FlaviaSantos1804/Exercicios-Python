{
  "nbformat": 4,
  "nbformat_minor": 0,
  "metadata": {
    "colab": {
      "name": "EstruturaDeRepeticao.ipynb",
      "provenance": [],
      "authorship_tag": "ABX9TyNmRLImAulL/zHfgwOLyIRn",
      "include_colab_link": true
    },
    "kernelspec": {
      "name": "python3",
      "display_name": "Python 3"
    }
  },
  "cells": [
    {
      "cell_type": "markdown",
      "metadata": {
        "id": "view-in-github",
        "colab_type": "text"
      },
      "source": [
        "<a href=\"https://colab.research.google.com/github/FlaviaSantos1804/Exercicios-Python/blob/main/EstruturaDeRepeticao.ipynb\" target=\"_parent\"><img src=\"https://colab.research.google.com/assets/colab-badge.svg\" alt=\"Open In Colab\"/></a>"
      ]
    },
    {
      "cell_type": "markdown",
      "metadata": {
        "id": "G0o1WtKaarQw"
      },
      "source": [
        "### 1"
      ]
    },
    {
      "cell_type": "code",
      "metadata": {
        "colab": {
          "base_uri": "https://localhost:8080/"
        },
        "id": "Tz9m7MKFaezT",
        "outputId": "7cb3af0b-962c-4784-82f8-c0399b52edfb"
      },
      "source": [
        "nota = input(\"Insira uma nota: \")\r\n",
        "\r\n",
        "\r\n",
        "while ((int(nota) < 0) | (int(nota) >= 11)):\r\n",
        "\r\n",
        "  print(\"Valor Inválido!\")\r\n",
        "  \r\n",
        "  nota = input(\"Insira uma nota: \")\r\n",
        "\r\n",
        "\r\n",
        "print(\"Valor Válido!\")\r\n"
      ],
      "execution_count": 23,
      "outputs": [
        {
          "output_type": "stream",
          "text": [
            "Insira uma nota: 11\n",
            "Valor Inválido!\n",
            "Insira uma nota: -89\n",
            "Valor Inválido!\n",
            "Insira uma nota: 50\n",
            "Valor Inválido!\n",
            "Insira uma nota: -1\n",
            "Valor Inválido!\n",
            "Insira uma nota: 9\n",
            "Valor Válido!\n"
          ],
          "name": "stdout"
        }
      ]
    },
    {
      "cell_type": "markdown",
      "metadata": {
        "id": "YGDPLUNnc9s4"
      },
      "source": [
        "### 2"
      ]
    },
    {
      "cell_type": "code",
      "metadata": {
        "colab": {
          "base_uri": "https://localhost:8080/"
        },
        "id": "Y5HcaZK9bgPr",
        "outputId": "641020e7-3c67-42ec-86cd-fa8c56b7e79d"
      },
      "source": [
        "nome = input(\"Insira seu nome: \")\r\n",
        "senha = input(\"Insira sua senha: \")\r\n",
        "\r\n",
        "\r\n",
        "while (nome == senha):\r\n",
        "  \r\n",
        "  print(\"Os valores devem ser diferentes!\")\r\n",
        "\r\n",
        "  nome = input(\"Insira seu nome: \")\r\n",
        "  \r\n",
        "  senha = input(\"Insira sua senha: \")\r\n",
        "\r\n",
        "\r\n",
        "\r\n",
        "print(\"Seu nome: {}\".format(nome))\r\n",
        "print(\"Sua senha: {}\".format(senha))\r\n"
      ],
      "execution_count": 22,
      "outputs": [
        {
          "output_type": "stream",
          "text": [
            "Insira seu nome: flavia\n",
            "Insira sua senha: flavia\n",
            "Os valores devem ser diferentes!\n",
            "Insira seu nome: Flávia\n",
            "Insira sua senha: Flávia\n",
            "Os valores devem ser diferentes!\n",
            "Insira seu nome: Flávia\n",
            "Insira sua senha: flavia\n",
            "Seu nome: Flávia\n",
            "Sua senha: flavia\n"
          ],
          "name": "stdout"
        }
      ]
    },
    {
      "cell_type": "markdown",
      "metadata": {
        "id": "O0gmC6odenS5"
      },
      "source": [
        "### 3"
      ]
    },
    {
      "cell_type": "code",
      "metadata": {
        "colab": {
          "base_uri": "https://localhost:8080/"
        },
        "id": "dkmOACGLd-C4",
        "outputId": "8cf55c34-5a61-4ab8-8173-e943f4629a20"
      },
      "source": [
        "nome = input(\"Digite o seu nome: \")\r\n",
        "while (not (len(nome) > 3)):\r\n",
        "\r\n",
        "  print(\"Insira um nome com mais de 3 caracteres\")\r\n",
        "\r\n",
        "  nome = input(\"Digite o seu nome: \")\r\n",
        "\r\n",
        "\r\n",
        "idade = input(\"Digite a sua idade: \")\r\n",
        "while (not (0 <= int (idade) <= 150)):\r\n",
        "\r\n",
        "  print(\"Insira uma idade entre 0 e 150\")\r\n",
        "\r\n",
        "  idade = input(\"Digite a sua idade: \")\r\n",
        "\r\n",
        "\r\n",
        "salario = input(\"Digite o seu salário: R$\")\r\n",
        "while (not (float (salario) > 0)):\r\n",
        "\r\n",
        "  print(\"Insira um salário maior que 0\")  \r\n",
        "\r\n",
        "  salario = input(\"Digite o seu salário: \")\r\n",
        "\r\n",
        "\r\n",
        "sexo = input(\"Digite o seu sexo: \")\r\n",
        "while (not ((sexo == 'f') | (sexo == 'm'))):\r\n",
        "\r\n",
        "  print(\"Insira um sexo entre f e m\")\r\n",
        "\r\n",
        "  sexo = input(\"Digite o seu sexo: \")\r\n",
        "\r\n",
        "\r\n",
        "estado_civil = input(\"Digite o seu estado civil: \")\r\n",
        "while (not (estado_civil in 'scvd')):\r\n",
        "\r\n",
        "  print(\"Insira um estado civil entre s c v e d\")\r\n",
        "\r\n",
        "  estado_civil = input(\"Digite o seu estado civil: \")\r\n",
        "\r\n",
        "\r\n",
        "print(\"\\n*********************************************\\n\")\r\n",
        "\r\n",
        "\r\n",
        "print(\"Seu nome é {}\".format(nome))\r\n",
        "print(\"Sua idade é {}\".format(int (idade)))\r\n",
        "print(\"Seu salário é R${}\".format(float (salario)))\r\n",
        "print(\"Seu sexo é {}\".format(sexo))\r\n",
        "print(\"Seu estado civil é {}\".format(estado_civil))\r\n",
        "\r\n",
        "\r\n",
        "if ((len(nome) > 3) & (0 <= int (idade) <= 150) & (float (salario) > 0) & ((sexo == 'f') | (sexo == 'm')) & (estado_civil in 'scvd')):\r\n",
        "  print(\"\\nCadastro realizado com sucesso!\\n\")\r\n"
      ],
      "execution_count": 34,
      "outputs": [
        {
          "output_type": "stream",
          "text": [
            "Digite o seu nome: Flávia Santos\n",
            "Digite a sua idade: 20\n",
            "Digite o seu salário: R$1500\n",
            "Digite o seu sexo: o\n",
            "Insira um sexo entre f e m\n",
            "Digite o seu sexo: i\n",
            "Insira um sexo entre f e m\n",
            "Digite o seu sexo: f\n",
            "Digite o seu estado civil: p\n",
            "Insira um estado civil entre s c v e d\n",
            "Digite o seu estado civil: l\n",
            "Insira um estado civil entre s c v e d\n",
            "Digite o seu estado civil: s\n",
            "\n",
            "*********************************************\n",
            "\n",
            "Seu nome é Flávia Santos\n",
            "Sua idade é 20\n",
            "Seu salário é R$1500.0\n",
            "Seu sexo é f\n",
            "Seu estado civil é s\n",
            "\n",
            "Cadastro realizado com sucesso!\n",
            "\n"
          ],
          "name": "stdout"
        }
      ]
    }
  ]
}