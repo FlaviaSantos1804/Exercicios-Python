{
  "nbformat": 4,
  "nbformat_minor": 0,
  "metadata": {
    "colab": {
      "name": "EstruturaSequencial.ipynb",
      "provenance": [],
      "authorship_tag": "ABX9TyP1ISMTem3aWj5BP+DfMjlb",
      "include_colab_link": true
    },
    "kernelspec": {
      "name": "python3",
      "display_name": "Python 3"
    }
  },
  "cells": [
    {
      "cell_type": "markdown",
      "metadata": {
        "id": "view-in-github",
        "colab_type": "text"
      },
      "source": [
        "<a href=\"https://colab.research.google.com/github/FlaviaSantos1804/Exercicios-Python/blob/main/EstruturaSequencial.ipynb\" target=\"_parent\"><img src=\"https://colab.research.google.com/assets/colab-badge.svg\" alt=\"Open In Colab\"/></a>"
      ]
    },
    {
      "cell_type": "markdown",
      "metadata": {
        "id": "fZqUopPWA1At"
      },
      "source": [
        "###1."
      ]
    },
    {
      "cell_type": "code",
      "metadata": {
        "colab": {
          "base_uri": "https://localhost:8080/"
        },
        "id": "Kj8sQeJDAcMS",
        "outputId": "b8c5d289-9fe6-49f3-e0dd-0e7add4730e8"
      },
      "source": [
        "print(\"Alo mundo\")"
      ],
      "execution_count": null,
      "outputs": [
        {
          "output_type": "stream",
          "text": [
            "Alo mundo\n"
          ],
          "name": "stdout"
        }
      ]
    },
    {
      "cell_type": "markdown",
      "metadata": {
        "id": "Joa8T3rSBHNT"
      },
      "source": [
        "###2."
      ]
    },
    {
      "cell_type": "code",
      "metadata": {
        "colab": {
          "base_uri": "https://localhost:8080/"
        },
        "id": "HRSMGtn5AyqE",
        "outputId": "03482a71-2a33-4142-8265-ac63109b6ccb"
      },
      "source": [
        "numero = input(\"Insira um número: \")\r\n",
        "print(\"O número informado foi:\",numero)"
      ],
      "execution_count": null,
      "outputs": [
        {
          "output_type": "stream",
          "text": [
            "Insira um número: 3\n",
            "O número informado foi: 3\n"
          ],
          "name": "stdout"
        }
      ]
    },
    {
      "cell_type": "markdown",
      "metadata": {
        "id": "nRovFbXMC38E"
      },
      "source": [
        "###3."
      ]
    },
    {
      "cell_type": "code",
      "metadata": {
        "colab": {
          "base_uri": "https://localhost:8080/"
        },
        "id": "uw2cEnRRB3nS",
        "outputId": "f5c17c39-72c4-4f9f-e47d-42b37ad9f74b"
      },
      "source": [
        "num_1 = input(\"Primeiro número: \")\r\n",
        "num_2 = input(\"Segundo número: \")\r\n",
        "soma = int(num_1) + int(num_2)\r\n",
        "print(\"A soma dos dois número é:\",soma)"
      ],
      "execution_count": null,
      "outputs": [
        {
          "output_type": "stream",
          "text": [
            "Primeiro número: 5\n",
            "Segundo número: 6\n",
            "A soma dos dois número é: 11\n"
          ],
          "name": "stdout"
        }
      ]
    },
    {
      "cell_type": "markdown",
      "metadata": {
        "id": "GQhxtpOkFN1s"
      },
      "source": [
        "###4."
      ]
    },
    {
      "cell_type": "code",
      "metadata": {
        "colab": {
          "base_uri": "https://localhost:8080/"
        },
        "id": "VpN3rZSCDw9L",
        "outputId": "d5432343-481a-41dd-ca56-32135a97d769"
      },
      "source": [
        "nota_1 = input(\"Primeira nota: \")\r\n",
        "nota_2 = input(\"Segunda nota: \")\r\n",
        "nota_3 = input(\"Terceira nota: \")\r\n",
        "nota_4 = input(\"Quarta nota: \")\r\n",
        "media = (int(nota_1)+int(nota_2)+int(nota_3)+int(nota_4))/4\r\n",
        "media"
      ],
      "execution_count": null,
      "outputs": [
        {
          "output_type": "stream",
          "text": [
            "Primeira nota: 0\n",
            "Segunda nota: 1\n",
            "Terceira nota: 3\n",
            "Quarta nota: 4\n"
          ],
          "name": "stdout"
        },
        {
          "output_type": "execute_result",
          "data": {
            "text/plain": [
              "2.0"
            ]
          },
          "metadata": {
            "tags": []
          },
          "execution_count": 18
        }
      ]
    },
    {
      "cell_type": "markdown",
      "metadata": {
        "id": "EhPEpSvfGTYU"
      },
      "source": [
        "###5."
      ]
    },
    {
      "cell_type": "code",
      "metadata": {
        "colab": {
          "base_uri": "https://localhost:8080/"
        },
        "id": "GVA07NKYFR16",
        "outputId": "23093659-33f7-4ac4-b618-ce9ebc55f83c"
      },
      "source": [
        "metros = input(\"Insira um valor em metros: \")\r\n",
        "print(\"O valor em centímetros é:\",int(metros)*100,\"cm\",sep=' ')"
      ],
      "execution_count": null,
      "outputs": [
        {
          "output_type": "stream",
          "text": [
            "Insira um valor em metros: 50\n",
            "O valor em centímetros é: 5000 cm\n"
          ],
          "name": "stdout"
        }
      ]
    },
    {
      "cell_type": "markdown",
      "metadata": {
        "id": "_dffwQRxHEcD"
      },
      "source": [
        "###6."
      ]
    },
    {
      "cell_type": "code",
      "metadata": {
        "colab": {
          "base_uri": "https://localhost:8080/"
        },
        "id": "ngXJ4HHpGVtQ",
        "outputId": "52a8e6e8-995f-4c9f-e375-bce7b669d468"
      },
      "source": [
        "raio = input(\"Insira o valor do raio: \")\r\n",
        "print(\"A área do círculo é:\",3.14*int(raio)**2)"
      ],
      "execution_count": null,
      "outputs": [
        {
          "output_type": "stream",
          "text": [
            "Insira o valor do raio: 4\n",
            "A área do círculo é: 50.24\n"
          ],
          "name": "stdout"
        }
      ]
    },
    {
      "cell_type": "markdown",
      "metadata": {
        "id": "sc9_VLLwIBJd"
      },
      "source": [
        "###7."
      ]
    },
    {
      "cell_type": "code",
      "metadata": {
        "colab": {
          "base_uri": "https://localhost:8080/"
        },
        "id": "fFLQaEgTHHIs",
        "outputId": "50a29a59-c203-49bc-c711-646c163d1fd4"
      },
      "source": [
        "lado = input(\"Insira o valor do lado do quadrado: \")\r\n",
        "area = int(lado)**2\r\n",
        "print(\"A área desse quadrado é:\",area)\r\n",
        "print(\"O dobro da área é:\",area*2)"
      ],
      "execution_count": null,
      "outputs": [
        {
          "output_type": "stream",
          "text": [
            "Insira o valor do lado do quadrado: 3\n",
            "A área desse quadrado é: 9\n",
            "O dobro da área é: 18\n"
          ],
          "name": "stdout"
        }
      ]
    },
    {
      "cell_type": "markdown",
      "metadata": {
        "id": "neGv1omOJUSN"
      },
      "source": [
        "###8."
      ]
    },
    {
      "cell_type": "code",
      "metadata": {
        "colab": {
          "base_uri": "https://localhost:8080/"
        },
        "id": "P2wfjxfRIDss",
        "outputId": "6a5200d5-526a-42ba-9244-97cd092ee763"
      },
      "source": [
        "ganha_por_hora = input(\"Quanto você ganha por hora? \")\r\n",
        "horas_no_mes = input(\"Quantas horas você trabalha no mês? \")\r\n",
        "print(\"Seu salário mensal é: \",\"R$\",float(ganha_por_hora)*float(horas_no_mes),sep='')"
      ],
      "execution_count": null,
      "outputs": [
        {
          "output_type": "stream",
          "text": [
            "Quanto você ganha por hora? 3.5\n",
            "Quantas horas você trabalha no mês? 4.5\n",
            "Seu salário mensal é: R$15.75\n"
          ],
          "name": "stdout"
        }
      ]
    },
    {
      "cell_type": "markdown",
      "metadata": {
        "id": "Y32Ngc_yDvws"
      },
      "source": [
        "###9."
      ]
    },
    {
      "cell_type": "code",
      "metadata": {
        "colab": {
          "base_uri": "https://localhost:8080/"
        },
        "id": "sGYJ8BJ1JW6L",
        "outputId": "637dd091-f30b-4ee8-fe77-2af746f41bc7"
      },
      "source": [
        "fahrenheit = input(\"Insira a temperatura em Fahrenheit: \")\r\n",
        "celsius = round(5 * ((float(fahrenheit)-32)/9),2)\r\n",
        "print(\"A temperatura em graus Celsius é: \",celsius,\"°C\")"
      ],
      "execution_count": null,
      "outputs": [
        {
          "output_type": "stream",
          "text": [
            "Insira a temperatura em Fahrenheit: 30\n",
            "A temperatura em graus Celsius é:  -1.11 °C\n"
          ],
          "name": "stdout"
        }
      ]
    },
    {
      "cell_type": "markdown",
      "metadata": {
        "id": "-JPWuEiJLB4V"
      },
      "source": [
        "###10."
      ]
    },
    {
      "cell_type": "code",
      "metadata": {
        "colab": {
          "base_uri": "https://localhost:8080/"
        },
        "id": "1yXR_PoaLECs",
        "outputId": "8c7034a8-3b69-4f4b-aa75-9b049395800f"
      },
      "source": [
        "celsius = input(\"Insira a temperatura em Celsius: \")\r\n",
        "fahrenheit = round((float(celsius)*9/5) + 32,2)\r\n",
        "print(\"A temperatura em graus Fahrenheit é: \",fahrenheit,\"°F\")"
      ],
      "execution_count": null,
      "outputs": [
        {
          "output_type": "stream",
          "text": [
            "Insira a temperatura em Celsius: 1.78\n",
            "A temperatura em graus Fahrenheit é:  35.2 °F\n"
          ],
          "name": "stdout"
        }
      ]
    },
    {
      "cell_type": "markdown",
      "metadata": {
        "id": "zlFF3u2qMINt"
      },
      "source": [
        "###11."
      ]
    },
    {
      "cell_type": "code",
      "metadata": {
        "colab": {
          "base_uri": "https://localhost:8080/"
        },
        "id": "jk_4xSr9MKBE",
        "outputId": "0047e1d2-12d0-4bf1-994c-d565ce525440"
      },
      "source": [
        "num_inteiro_1 = input(\"Insira o 1º número inteiro: \")\r\n",
        "num_inteiro_2 = input(\"Insira o 2º número inteiro: \")\r\n",
        "num_real = input(\"Insira um número real: \")\r\n",
        "\r\n",
        "primeira_operacao = int(num_inteiro_1)*2 * int(num_inteiro_2)/2\r\n",
        "\r\n",
        "print(\"A primeira operação é:\",primeira_operacao)\r\n",
        "\r\n",
        "segunda_operacao = int(num_inteiro_1)*3 + float(num_real)\r\n",
        "\r\n",
        "print(\"A segunda operação é:\",segunda_operacao)\r\n",
        "\r\n",
        "terceira_operacao = float(num_real)**3\r\n",
        "\r\n",
        "print(\"A terceira operação é:\",terceira_operacao)\r\n"
      ],
      "execution_count": null,
      "outputs": [
        {
          "output_type": "stream",
          "text": [
            "Insira o 1º número inteiro: 4\n",
            "Insira o 2º número inteiro: 5\n",
            "Insira um número real: 3.5\n",
            "A primeira operação é: 20.0\n",
            "A segunda operação é: 15.5\n",
            "A terceira operação é: 42.875\n"
          ],
          "name": "stdout"
        }
      ]
    },
    {
      "cell_type": "markdown",
      "metadata": {
        "id": "Qir1H1c6PgPE"
      },
      "source": [
        "###12."
      ]
    },
    {
      "cell_type": "code",
      "metadata": {
        "colab": {
          "base_uri": "https://localhost:8080/"
        },
        "id": "EHb1kBVJOUl2",
        "outputId": "f6641fa1-39bf-467c-ad5c-c36d2db6dd95"
      },
      "source": [
        "altura = input(\"Insira um valor de altura: \")\r\n",
        "print(\"Seu peso ideal é\",(72.7*float(altura))-58)\r\n"
      ],
      "execution_count": null,
      "outputs": [
        {
          "output_type": "stream",
          "text": [
            "Insira um valor de altura: 54.3\n",
            "Seu peso ideal é 3889.61\n"
          ],
          "name": "stdout"
        }
      ]
    },
    {
      "cell_type": "markdown",
      "metadata": {
        "id": "2QCpPC15OTAl"
      },
      "source": [
        "###13."
      ]
    },
    {
      "cell_type": "code",
      "metadata": {
        "colab": {
          "base_uri": "https://localhost:8080/"
        },
        "id": "aksaGJ6rPiab",
        "outputId": "4572c83d-b22c-46ec-f6c4-514b5dfe3283"
      },
      "source": [
        "sexo = input(\"Você é homem ou mulher? \")\r\n",
        "if (sexo == \"homem\"):\r\n",
        "  altura = input(\"Qual a sua altura? \")\r\n",
        "  peso_ideal = (72.7*float(altura)) - 58\r\n",
        "  print(\"Seu peso ideal é\",round(peso_ideal,2))\r\n",
        "elif (sexo == \"mulher\"):\r\n",
        "  altura = input(\"Qual a sua altura? \")\r\n",
        "  peso_ideal = (62.1*float(altura)) - 44.7\r\n",
        "  print(\"Seu peso ideal é\",round(peso_ideal,2))\r\n",
        "else:\r\n",
        "  print(\"Insira homem ou mulher, tente novamente!\")"
      ],
      "execution_count": null,
      "outputs": [
        {
          "output_type": "stream",
          "text": [
            "Você é homem ou mulher? Mulher\n",
            "Insira homem ou mulher, tente novamente!\n"
          ],
          "name": "stdout"
        }
      ]
    },
    {
      "cell_type": "markdown",
      "metadata": {
        "id": "I5OSIgu0Y-Co"
      },
      "source": [
        "###14."
      ]
    },
    {
      "cell_type": "code",
      "metadata": {
        "colab": {
          "base_uri": "https://localhost:8080/"
        },
        "id": "7RLpza3qRhdU",
        "outputId": "f6ce3b26-e7c8-472a-e1f5-8bb48b3500aa"
      },
      "source": [
        "peso = input(\"Insira o peso de peixes: \")\r\n",
        "if (float(peso)<=50):\r\n",
        "  print(\"Nenhuma multa!\")\r\n",
        "else:\r\n",
        "  excesso = float(peso) - 50  \r\n",
        "  multa = 4*excesso\r\n",
        "  print(\"O valor da multa é: R$\",round(multa,2),sep='')"
      ],
      "execution_count": null,
      "outputs": [
        {
          "output_type": "stream",
          "text": [
            "Insira o peso de peixes: 54\n",
            "O valor da multa é: R$16.0\n"
          ],
          "name": "stdout"
        }
      ]
    },
    {
      "cell_type": "markdown",
      "metadata": {
        "id": "DMwfqVfibZKg"
      },
      "source": [
        "###15."
      ]
    },
    {
      "cell_type": "code",
      "metadata": {
        "colab": {
          "base_uri": "https://localhost:8080/"
        },
        "id": "GkPIQOsjY_23",
        "outputId": "7add49b3-d004-46df-a24e-90ab36ff84e7"
      },
      "source": [
        "horas_no_mes = input(\"Quantas horas você trabalha no mês? \")\r\n",
        "ganha_por_hora = input(\"Quanto você ganha por hora? \")\r\n",
        "\r\n",
        "salario = float(horas_no_mes)*float(ganha_por_hora)\r\n",
        "print(\"Salário bruto: R$\",round(salario,2),sep='')\r\n",
        "\r\n",
        "inss = salario*0.08\r\n",
        "print(\"Pagou ao INSS: R$\",round(inss,2),sep='')\r\n",
        "\r\n",
        "sindicato = salario*0.05\r\n",
        "print(\"Pagou ao sindicato: R$\",round(sindicato,2),sep='')\r\n",
        "\r\n",
        "salario_liquido = salario - inss - sindicato - salario*0.11\r\n",
        "print(\"Salário líquido: R$\",round(salario_liquido,2),sep='')\r\n",
        "\r\n"
      ],
      "execution_count": null,
      "outputs": [
        {
          "output_type": "stream",
          "text": [
            "Quantas horas você trabalha no mês? 4.5\n",
            "Quanto você ganha por hora? 4.75\n",
            "Salário bruto: R$21.38\n",
            "Pagou ao INSS: R$1.71\n",
            "Pagou ao sindicato: R$1.07\n",
            "Salário líquido: R$16.24\n"
          ],
          "name": "stdout"
        }
      ]
    },
    {
      "cell_type": "markdown",
      "metadata": {
        "id": "Gq_xlpFPd94r"
      },
      "source": [
        "###16."
      ]
    },
    {
      "cell_type": "code",
      "metadata": {
        "colab": {
          "base_uri": "https://localhost:8080/"
        },
        "id": "IqXxRBlMbbGn",
        "outputId": "5e791569-18ba-4f72-9e74-a1b6b1aec190"
      },
      "source": [
        "area = input(\"Quantos metros quadrados tem a área a ser pintada? \")\r\n",
        "\r\n",
        "litros_necessarios = float(area)/3\r\n",
        "\r\n",
        "quant_latas_necessarias = litros_necessarios*18\r\n",
        "print(\"Você vai precisar de {} latas\".format(round(quant_latas_necessarias,2)))\r\n",
        "\r\n",
        "preco_total = quant_latas_necessarias*80\r\n",
        "print(\"Você precisará pagar R${}\".format(round(preco_total,2)))"
      ],
      "execution_count": null,
      "outputs": [
        {
          "output_type": "stream",
          "text": [
            "Quantos metros quadrados tem a área a ser pintada? 4.75\n",
            "Você vai precisar de 28.5 latas\n",
            "Você precisará pagar R$2280.0\n"
          ],
          "name": "stdout"
        }
      ]
    },
    {
      "cell_type": "markdown",
      "metadata": {
        "id": "iqqfGmDwRfs1"
      },
      "source": [
        "###17."
      ]
    },
    {
      "cell_type": "code",
      "metadata": {
        "colab": {
          "base_uri": "https://localhost:8080/"
        },
        "id": "_YGp3IuyeBF2",
        "outputId": "7d9733a6-00cb-447d-d5c8-28b02fc97ae9"
      },
      "source": [
        "area = input(\"Quantos metros quadrados tem a área a ser pintada? \")\r\n",
        "\r\n",
        "litros_necessarios = float(area)/6\r\n",
        "\r\n",
        "forma = input(\"Você prefere comprar latas ou galões? \")\r\n",
        "\r\n",
        "if (forma==\"latas\"):\r\n",
        "  quant_latas_necessarias = litros_necessarios*18\r\n",
        "  print(\"Você vai precisar de {} latas\".format(round(quant_latas_necessarias,2)))\r\n",
        "\r\n",
        "  preco_total = quant_latas_necessarias*80\r\n",
        "  print(\"Você precisará pagar R${}\".format(round(preco_total,2)))\r\n",
        "\r\n",
        "elif (forma==\"galõ\r\n",
        "[es\"):\r\n",
        "  quant_galoes_necessarios = litros_necessarios*3.6\r\n",
        "  print(\"Você vai precisar de {} galões\".format(round(quant_galoes_necessarios,2)))\r\n",
        "\r\n",
        "  preco_total = quant_galoes_necessarios*25\r\n",
        "  print(\"Você precisará pagar R${}\".format(round(preco_total,2)))\r\n",
        "\r\n",
        "else:\r\n",
        "  print(\"Insira latas ou galões, tente novamente!\")\r\n",
        "\r\n",
        "\r\n",
        "\r\n"
      ],
      "execution_count": null,
      "outputs": [
        {
          "output_type": "stream",
          "text": [
            "Quantos metros quadrados tem a área a ser pintada? 5\n",
            "Você prefere comprar latas ou galões? galões\n",
            "Você vai precisar de 3.0 galões\n",
            "Você precisará pagar R$75.0\n"
          ],
          "name": "stdout"
        }
      ]
    },
    {
      "cell_type": "code",
      "metadata": {
        "colab": {
          "base_uri": "https://localhost:8080/"
        },
        "id": "hugiQj8huwkH",
        "outputId": "5d963af3-5955-4769-999b-6edccbe88a7f"
      },
      "source": [
        "area_desejada = input(\"Qual é a área desejada? \")\r\n",
        "\r\n",
        "\r\n",
        "\r\n",
        "from scipy.optimize import linprog\r\n",
        "\r\n",
        "obj = [19200,375]\r\n",
        "\r\n",
        "lhs_eq = [[1,1],\r\n",
        "          [3,-0.54]]\r\n",
        "\r\n",
        "rhs_eq = [area_desejada,\r\n",
        "          0]\r\n",
        "\r\n",
        "bnd = [(0, float(\"inf\")),  \r\n",
        "       (0, float(\"inf\"))] \r\n",
        "\r\n",
        "\r\n",
        "opt = linprog(c=obj, A_eq=lhs_eq, b_eq=rhs_eq, bounds=bnd,\r\n",
        "               method=\"revised simplex\")\r\n",
        "opt"
      ],
      "execution_count": null,
      "outputs": [
        {
          "output_type": "stream",
          "text": [
            "Qual é a área desejada? 50\n"
          ],
          "name": "stdout"
        },
        {
          "output_type": "execute_result",
          "data": {
            "text/plain": [
              "     con: array([-7.10542736e-15,  3.55271368e-15])\n",
              "     fun: 162330.5084745763\n",
              " message: 'Optimization terminated successfully.'\n",
              "     nit: 2\n",
              "   slack: array([], dtype=float64)\n",
              "  status: 0\n",
              " success: True\n",
              "       x: array([ 7.62711864, 42.37288136])"
            ]
          },
          "metadata": {
            "tags": []
          },
          "execution_count": 144
        }
      ]
    },
    {
      "cell_type": "markdown",
      "metadata": {
        "id": "SYUUx8UR0hHM"
      },
      "source": [
        "###18."
      ]
    },
    {
      "cell_type": "code",
      "metadata": {
        "colab": {
          "base_uri": "https://localhost:8080/"
        },
        "id": "vSg-61460mBA",
        "outputId": "eb5d00cc-db2b-4953-969e-db292410bf8a"
      },
      "source": [
        "tamanho_do_arquivo = input(\"Insira o tamanho do arquivo: \")\r\n",
        "velocidade_do_link = input(\"Insira a velocidade de um link: \")\r\n",
        "\r\n",
        "# Velocidade convertida de megabit por segundo para megabyte por segundo\r\n",
        "velocidade_convertida = float(velocidade_do_link)*0.125   \r\n",
        "\r\n",
        "tempo_segundos_download = float(tamanho_do_arquivo)/velocidade_convertida\r\n",
        "\r\n",
        "tempo_minutos_download = tempo_segundos_download/60\r\n",
        "print(\"O tempo aproximado de download do arquivo usando este link é {} minutos\".format(round(tempo_minutos_download,2)))"
      ],
      "execution_count": null,
      "outputs": [
        {
          "output_type": "stream",
          "text": [
            "Insira o tamanho do arquivo: 40.7\n",
            "Insira a velocidade de um link: 32.2\n",
            "O tempo aproximado de download do arquivo usando este link é 0.17 minutos\n"
          ],
          "name": "stdout"
        }
      ]
    },
    {
      "cell_type": "code",
      "metadata": {
        "id": "Fn6N7I8B2Vn7"
      },
      "source": [
        ""
      ],
      "execution_count": null,
      "outputs": []
    }
  ]
}